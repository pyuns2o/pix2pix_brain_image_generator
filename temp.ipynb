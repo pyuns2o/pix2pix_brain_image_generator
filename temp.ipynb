{
 "cells": [
  {
   "cell_type": "code",
   "execution_count": 11,
   "id": "f48a8466-4a7e-4093-b4a4-45f031e2c320",
   "metadata": {},
   "outputs": [],
   "source": [
    "import os\n",
    "import numpy as np\n",
    "import random\n",
    "import nibabel as nib\n",
    "import torch"
   ]
  },
  {
   "cell_type": "code",
   "execution_count": 2,
   "id": "561b5068-272a-4f63-8bb4-54d89b50a024",
   "metadata": {},
   "outputs": [],
   "source": [
    "temp = torch.tensor([1, 2])"
   ]
  },
  {
   "cell_type": "code",
   "execution_count": 4,
   "id": "53186e64-38aa-462b-97bf-99b95d54c484",
   "metadata": {},
   "outputs": [
    {
     "data": {
      "text/plain": [
       "tensor([1, 2], device='cuda:0')"
      ]
     },
     "execution_count": 4,
     "metadata": {},
     "output_type": "execute_result"
    }
   ],
   "source": [
    "temp.to('cuda:0')"
   ]
  },
  {
   "cell_type": "code",
   "execution_count": 8,
   "id": "c34f2591-eaf0-43d5-b01f-9b32582ec475",
   "metadata": {},
   "outputs": [],
   "source": [
    "conv = torch.nn.Conv2d(1, 1, 1)"
   ]
  },
  {
   "cell_type": "code",
   "execution_count": 10,
   "id": "9356821b-12d6-4ea2-b956-e8bc137e711a",
   "metadata": {},
   "outputs": [
    {
     "data": {
      "text/plain": [
       "Conv2d(1, 1, kernel_size=(1, 1), stride=(1, 1))"
      ]
     },
     "execution_count": 10,
     "metadata": {},
     "output_type": "execute_result"
    }
   ],
   "source": [
    "conv.to('cuda:0')"
   ]
  },
  {
   "cell_type": "code",
   "execution_count": null,
   "id": "c4856e5c-8c4c-41f4-a2b8-440e31405df5",
   "metadata": {},
   "outputs": [],
   "source": []
  },
  {
   "cell_type": "code",
   "execution_count": null,
   "id": "9df9ad7c-0315-4216-8ae0-e6584b5ea4c9",
   "metadata": {},
   "outputs": [],
   "source": []
  },
  {
   "cell_type": "code",
   "execution_count": null,
   "id": "7a9282dd-d096-4ed8-9c0c-7aa4addbdc22",
   "metadata": {},
   "outputs": [],
   "source": []
  },
  {
   "cell_type": "code",
   "execution_count": 13,
   "id": "9a3cfad4-03ab-406f-8d1a-40e5b4a0d37d",
   "metadata": {},
   "outputs": [],
   "source": [
    "train = np.load(\"/home/yspark/datasets/dHCP/subjects/r_train_ls.npy\")\n",
    "valid = np.load(\"/home/yspark/datasets/dHCP/subjects/r_valid_ls.npy\")\n",
    "test = np.load(\"/home/yspark/datasets/dHCP/subjects/r_test_ls.npy\")"
   ]
  },
  {
   "cell_type": "code",
   "execution_count": 16,
   "id": "19f251e7-aa89-43a4-89d7-081e94b7d778",
   "metadata": {},
   "outputs": [
    {
     "data": {
      "text/plain": [
       "267"
      ]
     },
     "execution_count": 16,
     "metadata": {},
     "output_type": "execute_result"
    }
   ],
   "source": [
    "len(list(train))"
   ]
  },
  {
   "cell_type": "code",
   "execution_count": 17,
   "id": "21bdb1a5-756c-433e-ac57-0d145d20e661",
   "metadata": {},
   "outputs": [
    {
     "data": {
      "text/plain": [
       "67"
      ]
     },
     "execution_count": 17,
     "metadata": {},
     "output_type": "execute_result"
    }
   ],
   "source": [
    "len(list(valid))"
   ]
  },
  {
   "cell_type": "code",
   "execution_count": 18,
   "id": "0628750c-306b-491c-b8f2-eed61fdeadb9",
   "metadata": {},
   "outputs": [
    {
     "data": {
      "text/plain": [
       "84"
      ]
     },
     "execution_count": 18,
     "metadata": {},
     "output_type": "execute_result"
    }
   ],
   "source": [
    "len(list(test))"
   ]
  },
  {
   "cell_type": "code",
   "execution_count": 3,
   "id": "8bad8b53-6ca1-409e-b068-c72be6054f19",
   "metadata": {},
   "outputs": [],
   "source": [
    "sub_ls = list(train) + list(valid) + list(test)"
   ]
  },
  {
   "cell_type": "code",
   "execution_count": 4,
   "id": "d2fa3d26-41c1-4de1-a718-fab7606f17d9",
   "metadata": {},
   "outputs": [],
   "source": [
    "f = open(\"/home/yspark/pix2pix/subjects/sub_ls.txt\", 'w')\n",
    "for sub in sub_ls:\n",
    "    f.write(str(sub) + \" \")\n",
    "f.close()"
   ]
  },
  {
   "cell_type": "code",
   "execution_count": 5,
   "id": "12ec847e-c15c-47a6-9a15-b23d978781e7",
   "metadata": {},
   "outputs": [
    {
     "data": {
      "text/plain": [
       "418"
      ]
     },
     "execution_count": 5,
     "metadata": {},
     "output_type": "execute_result"
    }
   ],
   "source": [
    "len(sub_ls)"
   ]
  },
  {
   "cell_type": "code",
   "execution_count": null,
   "id": "86d8be15-0706-4f1e-9846-b62460cde1cb",
   "metadata": {},
   "outputs": [],
   "source": []
  }
 ],
 "metadata": {
  "kernelspec": {
   "display_name": "deep",
   "language": "python",
   "name": "deep"
  },
  "language_info": {
   "codemirror_mode": {
    "name": "ipython",
    "version": 3
   },
   "file_extension": ".py",
   "mimetype": "text/x-python",
   "name": "python",
   "nbconvert_exporter": "python",
   "pygments_lexer": "ipython3",
   "version": "3.8.18"
  }
 },
 "nbformat": 4,
 "nbformat_minor": 5
}
